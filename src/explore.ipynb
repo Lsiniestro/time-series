{
    "cells": [
        {
            "cell_type": "markdown",
            "metadata": {},
            "source": [
                "# Explore here"
            ]
        },
        {
            "cell_type": "code",
            "execution_count": 1,
            "metadata": {},
            "outputs": [
                {
                    "data": {
                        "text/html": [
                            "<div>\n",
                            "<style scoped>\n",
                            "    .dataframe tbody tr th:only-of-type {\n",
                            "        vertical-align: middle;\n",
                            "    }\n",
                            "\n",
                            "    .dataframe tbody tr th {\n",
                            "        vertical-align: top;\n",
                            "    }\n",
                            "\n",
                            "    .dataframe thead th {\n",
                            "        text-align: right;\n",
                            "    }\n",
                            "</style>\n",
                            "<table border=\"1\" class=\"dataframe\">\n",
                            "  <thead>\n",
                            "    <tr style=\"text-align: right;\">\n",
                            "      <th></th>\n",
                            "      <th>date</th>\n",
                            "      <th>sales</th>\n",
                            "    </tr>\n",
                            "  </thead>\n",
                            "  <tbody>\n",
                            "    <tr>\n",
                            "      <th>0</th>\n",
                            "      <td>2022-09-03 17:10:08.079328</td>\n",
                            "      <td>55.292157</td>\n",
                            "    </tr>\n",
                            "    <tr>\n",
                            "      <th>1</th>\n",
                            "      <td>2022-09-04 17:10:08.079328</td>\n",
                            "      <td>53.803211</td>\n",
                            "    </tr>\n",
                            "    <tr>\n",
                            "      <th>2</th>\n",
                            "      <td>2022-09-05 17:10:08.079328</td>\n",
                            "      <td>58.141693</td>\n",
                            "    </tr>\n",
                            "    <tr>\n",
                            "      <th>3</th>\n",
                            "      <td>2022-09-06 17:10:08.079328</td>\n",
                            "      <td>64.530899</td>\n",
                            "    </tr>\n",
                            "    <tr>\n",
                            "      <th>4</th>\n",
                            "      <td>2022-09-07 17:10:08.079328</td>\n",
                            "      <td>66.013633</td>\n",
                            "    </tr>\n",
                            "  </tbody>\n",
                            "</table>\n",
                            "</div>"
                        ],
                        "text/plain": [
                            "                         date      sales\n",
                            "0  2022-09-03 17:10:08.079328  55.292157\n",
                            "1  2022-09-04 17:10:08.079328  53.803211\n",
                            "2  2022-09-05 17:10:08.079328  58.141693\n",
                            "3  2022-09-06 17:10:08.079328  64.530899\n",
                            "4  2022-09-07 17:10:08.079328  66.013633"
                        ]
                    },
                    "execution_count": 1,
                    "metadata": {},
                    "output_type": "execute_result"
                }
            ],
            "source": [
                "import pandas as pd \n",
                "import numpy as np\n",
                "import matplotlib.pyplot as plt\n",
                "import seaborn as sns\n",
                "\n",
                "df = pd.read_csv('https://raw.githubusercontent.com/4GeeksAcademy/alternative-time-series-project/main/sales.csv')\n",
                "\n",
                "df.head()"
            ]
        },
        {
            "cell_type": "code",
            "execution_count": 2,
            "metadata": {},
            "outputs": [
                {
                    "name": "stdout",
                    "output_type": "stream",
                    "text": [
                        "<class 'pandas.core.frame.DataFrame'>\n",
                        "RangeIndex: 366 entries, 0 to 365\n",
                        "Data columns (total 2 columns):\n",
                        " #   Column  Non-Null Count  Dtype  \n",
                        "---  ------  --------------  -----  \n",
                        " 0   date    366 non-null    object \n",
                        " 1   sales   366 non-null    float64\n",
                        "dtypes: float64(1), object(1)\n",
                        "memory usage: 5.8+ KB\n"
                    ]
                }
            ],
            "source": [
                "df.info()"
            ]
        },
        {
            "cell_type": "code",
            "execution_count": 3,
            "metadata": {},
            "outputs": [
                {
                    "data": {
                        "text/html": [
                            "<div>\n",
                            "<style scoped>\n",
                            "    .dataframe tbody tr th:only-of-type {\n",
                            "        vertical-align: middle;\n",
                            "    }\n",
                            "\n",
                            "    .dataframe tbody tr th {\n",
                            "        vertical-align: top;\n",
                            "    }\n",
                            "\n",
                            "    .dataframe thead th {\n",
                            "        text-align: right;\n",
                            "    }\n",
                            "</style>\n",
                            "<table border=\"1\" class=\"dataframe\">\n",
                            "  <thead>\n",
                            "    <tr style=\"text-align: right;\">\n",
                            "      <th></th>\n",
                            "      <th>sales</th>\n",
                            "    </tr>\n",
                            "    <tr>\n",
                            "      <th>date</th>\n",
                            "      <th></th>\n",
                            "    </tr>\n",
                            "  </thead>\n",
                            "  <tbody>\n",
                            "    <tr>\n",
                            "      <th>2022-09-03 17:10:08.079328</th>\n",
                            "      <td>55.292157</td>\n",
                            "    </tr>\n",
                            "    <tr>\n",
                            "      <th>2022-09-04 17:10:08.079328</th>\n",
                            "      <td>53.803211</td>\n",
                            "    </tr>\n",
                            "    <tr>\n",
                            "      <th>2022-09-05 17:10:08.079328</th>\n",
                            "      <td>58.141693</td>\n",
                            "    </tr>\n",
                            "    <tr>\n",
                            "      <th>2022-09-06 17:10:08.079328</th>\n",
                            "      <td>64.530899</td>\n",
                            "    </tr>\n",
                            "    <tr>\n",
                            "      <th>2022-09-07 17:10:08.079328</th>\n",
                            "      <td>66.013633</td>\n",
                            "    </tr>\n",
                            "    <tr>\n",
                            "      <th>...</th>\n",
                            "      <td>...</td>\n",
                            "    </tr>\n",
                            "    <tr>\n",
                            "      <th>2023-08-30 17:10:08.079328</th>\n",
                            "      <td>989.600354</td>\n",
                            "    </tr>\n",
                            "    <tr>\n",
                            "      <th>2023-08-31 17:10:08.079328</th>\n",
                            "      <td>994.987326</td>\n",
                            "    </tr>\n",
                            "    <tr>\n",
                            "      <th>2023-09-01 17:10:08.079328</th>\n",
                            "      <td>995.814415</td>\n",
                            "    </tr>\n",
                            "    <tr>\n",
                            "      <th>2023-09-02 17:10:08.079328</th>\n",
                            "      <td>997.350214</td>\n",
                            "    </tr>\n",
                            "    <tr>\n",
                            "      <th>2023-09-03 17:10:08.079328</th>\n",
                            "      <td>1000.482785</td>\n",
                            "    </tr>\n",
                            "  </tbody>\n",
                            "</table>\n",
                            "<p>366 rows × 1 columns</p>\n",
                            "</div>"
                        ],
                        "text/plain": [
                            "                                  sales\n",
                            "date                                   \n",
                            "2022-09-03 17:10:08.079328    55.292157\n",
                            "2022-09-04 17:10:08.079328    53.803211\n",
                            "2022-09-05 17:10:08.079328    58.141693\n",
                            "2022-09-06 17:10:08.079328    64.530899\n",
                            "2022-09-07 17:10:08.079328    66.013633\n",
                            "...                                 ...\n",
                            "2023-08-30 17:10:08.079328   989.600354\n",
                            "2023-08-31 17:10:08.079328   994.987326\n",
                            "2023-09-01 17:10:08.079328   995.814415\n",
                            "2023-09-02 17:10:08.079328   997.350214\n",
                            "2023-09-03 17:10:08.079328  1000.482785\n",
                            "\n",
                            "[366 rows x 1 columns]"
                        ]
                    },
                    "execution_count": 3,
                    "metadata": {},
                    "output_type": "execute_result"
                }
            ],
            "source": [
                "# convert date column to  datetime deleting the time\n",
                "\n",
                "df['date'] = pd.to_datetime(df.date)\n",
                "df = df.set_index(\"date\")\n",
                "\n",
                "df"
            ]
        },
        {
            "cell_type": "code",
            "execution_count": 4,
            "metadata": {},
            "outputs": [
                {
                    "data": {
                        "image/png": "[encoded data removed]",
                        "text/plain": [
                            "<Figure size 1000x500 with 1 Axes>"
                        ]
                    },
                    "metadata": {},
                    "output_type": "display_data"
                }
            ],
            "source": [
                "fig, axis = plt.subplots(figsize = (10, 5))\n",
                "\n",
                "sns.lineplot(data = df)\n",
                "\n",
                "plt.tight_layout()\n",
                "\n",
                "plt.show()"
            ]
        },
        {
            "cell_type": "markdown",
            "metadata": {},
            "source": [
                "-Se aprecia una tendencia ascendente\n",
                "\n"
            ]
        },
        {
            "cell_type": "code",
            "execution_count": 9,
            "metadata": {},
            "outputs": [
                {
                    "data": {
                        "text/plain": [
                            "<statsmodels.tsa.seasonal.DecomposeResult at 0x27f05cac380>"
                        ]
                    },
                    "execution_count": 9,
                    "metadata": {},
                    "output_type": "execute_result"
                }
            ],
            "source": [
                "from statsmodels.tsa.seasonal import seasonal_decompose\n",
                "\n",
                "decomposition = seasonal_decompose(df[\"sales\"])\n",
                "decomposition"
            ]
        },
        {
            "cell_type": "code",
            "execution_count": null,
            "metadata": {},
            "outputs": [],
            "source": []
        }
    ],
    "metadata": {
        "kernelspec": {
            "display_name": "Python 3.8.13 64-bit ('3.8.13')",
            "language": "python",
            "name": "python3"
        },
        "language_info": {
            "codemirror_mode": {
                "name": "ipython",
                "version": 3
            },
            "file_extension": ".py",
            "mimetype": "text/x-python",
            "name": "python",
            "nbconvert_exporter": "python",
            "pygments_lexer": "ipython3",
            "version": "3.12.2"
        },
        "orig_nbformat": 4,
        "vscode": {
            "interpreter": {
                "hash": "110cc1dee26208153f2972f08a2ad52b6a56238dc66d48e87fb757ef2996db56"
            }
        }
    },
    "nbformat": 4,
    "nbformat_minor": 2
}
